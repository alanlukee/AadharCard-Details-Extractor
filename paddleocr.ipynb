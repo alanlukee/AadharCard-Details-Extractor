{
 "cells": [
  {
   "attachments": {},
   "cell_type": "markdown",
   "metadata": {},
   "source": [
    "# Extraction of Data from Images:\n",
    "## Index\n",
    "1. <a href=\"#aadhaar\"> Aadhaar Card Data Extraction </a>\n",
    "\n",
    "> Note: This code has been tested on Python 3.9 and 3.10 . Also ensure that the images are properly taken such that the Government of India heading (in Aadhaar cards) is the first sentence visible."
   ]
  },
  {
   "attachments": {},
   "cell_type": "markdown",
   "metadata": {},
   "source": [
    "Paddle-OCR Installation"
   ]
  },
  {
   "cell_type": "code",
   "execution_count": null,
   "metadata": {},
   "outputs": [],
   "source": [
    "!python -m pip install paddlepaddle -i https://pypi.tuna.tsinghua.edu.cn/simple"
   ]
  },
  {
   "cell_type": "code",
   "execution_count": null,
   "metadata": {},
   "outputs": [],
   "source": [
    "%pip install paddleocr"
   ]
  },
  {
   "cell_type": "code",
   "execution_count": null,
   "metadata": {},
   "outputs": [],
   "source": [
    "%pip install paddlepaddle"
   ]
  },
  {
   "attachments": {},
   "cell_type": "markdown",
   "metadata": {},
   "source": [
    "Importing necessary packages"
   ]
  },
  {
   "cell_type": "code",
   "execution_count": null,
   "metadata": {},
   "outputs": [],
   "source": [
    "from matplotlib import pyplot as plt\n",
    "import cv2\n",
    "import os\n",
    "import re"
   ]
  },
  {
   "cell_type": "code",
   "execution_count": null,
   "metadata": {},
   "outputs": [],
   "source": [
    "from paddleocr import PaddleOCR, draw_ocr\n",
    "\n",
    "ocr = PaddleOCR(lang = 'en')"
   ]
  },
  {
   "attachments": {},
   "cell_type": "markdown",
   "metadata": {},
   "source": [
    "Dealing with multiple images"
   ]
  },
  {
   "cell_type": "code",
   "execution_count": null,
   "metadata": {},
   "outputs": [],
   "source": [
    "\n",
    "def extract_aadhar_info(confidence_threshold):\n",
    "    image_directory = r\"C:\\Users\\ASUS\\Desktop\\Aadhar_details_extractor\\AadharCard-Details-Extractor\\aadhar_dataset\"\n",
    "    name_num = []  \n",
    "    \n",
    "    for filename in os.listdir(image_directory):\n",
    "        if filename.endswith('.jpg') or filename.endswith('.png') or filename.endswith('.jpeg'):\n",
    "            img_path = os.path.join(image_directory, filename)\n",
    "            print(\"Path: \", img_path)\n",
    "            result = ocr.ocr(img_path)\n",
    "            extracted_numbers = [] \n",
    "            for res in result:\n",
    "                for line in res:\n",
    "                    text = line[1][0]\n",
    "                    confidence = line[1][1]\n",
    "                    if not text.startswith(\"VID\" or \"vid\" or \"VID:\" or \"vid:\" or \"VID \" or \"vid \"):\n",
    "                        matches = re.findall(r'\\b(\\d{4}\\s?\\d{4}\\s?\\d{4}|\\d{8}\\s?\\d{4}|\\d{4}\\s?\\d{8}|\\d{12})\\b', text)       \n",
    "                    #matches = re.findall(r'\\b(\\d{4}\\s?\\d{4}\\s?\\d{4}|\\d{8}\\s?\\d{4}|\\d{4}\\s?\\d{8}|\\d{12})\\b', text)\n",
    "                    if matches:\n",
    "                        extracted_numbers.extend(matches)\n",
    "            extracted_numbers = format_numbers(extracted_numbers)\n",
    "            \n",
    "            result = ocr.ocr(img_path)\n",
    "            extracted_names = [res[i][1][0] for i in range(0, len(result[0]), 1) for res in result if res[i][1][1] >= confidence_threshold]\n",
    "            if len(extracted_names) >= 2:\n",
    "                name_num.append({\"Name\": extracted_names[1], \"Number\": extracted_numbers[-1]})\n",
    "    \n",
    "    return name_num\n",
    "\n",
    "\n",
    "# Usage:"
   ]
  },
  {
   "attachments": {},
   "cell_type": "markdown",
   "metadata": {},
   "source": [
    "# Aadhaar Card Detail Extraction:\n",
    "<p id=\"aadhaar\">\n",
    "Run the below cell after providing the path to the image directory\n",
    "<br>\n",
    "Output will be stored in a CSV file called `output.csv`\n",
    "</p>"
   ]
  },
  {
   "cell_type": "code",
   "execution_count": null,
   "metadata": {},
   "outputs": [],
   "source": [
    "import cv2\n",
    "import os\n",
    "import re\n",
    "import pandas as pd\n",
    "from paddleocr import PaddleOCR, draw_ocr\n",
    "\n",
    "ocr = PaddleOCR(lang = 'en')\n",
    "\n",
    "def extract_aadhar_info(confidence_threshold):\n",
    "    image_directory = r\"PATH_TO_IMAGE_DIRECTORY\"\n",
    "    name_num = []  \n",
    "    \n",
    "    for filename in os.listdir(image_directory):\n",
    "        if filename.endswith('.jpg') or filename.endswith('.png') or filename.endswith('.jpeg'):\n",
    "            img_path = os.path.join(image_directory, filename)\n",
    "            print(\"PATH:\", img_path)\n",
    "            \n",
    "            \n",
    "            result = ocr.ocr(img_path)\n",
    "            extracted_numbers = [] \n",
    "            for res in result:\n",
    "                for line in res:\n",
    "                    text = line[1][0]\n",
    "                    confidence = line[1][1]\n",
    "                    if not text.startswith(\"VID\" or \"vid\" or \"VID:\" or \"vid:\" or \"VID \" or \"vid \"):\n",
    "                        matches = re.findall(r'\\b(\\d{4}\\s?\\d{4}\\s?\\d{4}|\\d{8}\\s?\\d{4}|\\d{4}\\s?\\d{8}|\\d{12})\\b', text)       \n",
    "                    #matches = re.findall(r'\\b(\\d{4}\\s?\\d{4}\\s?\\d{4}|\\d{8}\\s?\\d{4}|\\d{4}\\s?\\d{8}|\\d{12})\\b', text)\n",
    "                    if matches:\n",
    "                        extracted_numbers.extend(matches)\n",
    "            extracted_numbers = format_numbers(extracted_numbers)\n",
    "            \n",
    "            result = ocr.ocr(img_path)\n",
    "            extracted_names = [res[i][1][0] for i in range(0, len(result[0]), 1) for res in result if res[i][1][1] >= confidence_threshold]\n",
    "            \n",
    "            \n",
    "            if len(extracted_names) >= 2:\n",
    "                name_num.append({\"Name\": extracted_names[1], \"Number\": extracted_numbers[-1]})\n",
    "    \n",
    "    return name_num\n",
    "\n",
    "def format_numbers(numbers):\n",
    "    formatted_numbers = []\n",
    "    \n",
    "    for number in numbers:\n",
    "        number_str = str(number)\n",
    "        if len(number_str) == 12:\n",
    "            formatted_number = format_number(number_str)\n",
    "            formatted_numbers.append(formatted_number)\n",
    "        else:\n",
    "            formatted_numbers.append(number_str)\n",
    "    return formatted_numbers\n",
    "            \n",
    "def format_number(number_str):\n",
    "    reversed_str = number_str[::-1]\n",
    "    formatted_str = ' '.join(reversed_str[i:i+4] for i in range(0, len(reversed_str), 4))\n",
    "    formatted_number = formatted_str[::-1]\n",
    "    return formatted_number\n",
    "\n",
    "name_num = extract_aadhar_info(0.83)\n",
    "\n",
    "df = pd.DataFrame(name_num)\n",
    "\n",
    "df.to_csv('output.csv', index=False)\n"
   ]
  },
  {
   "cell_type": "code",
   "execution_count": null,
   "metadata": {},
   "outputs": [],
   "source": [
    "def format_numbers(numbers):\n",
    "    formatted_numbers = []\n",
    "    \n",
    "    for number in numbers:\n",
    "        number_str = str(number)\n",
    "        if len(number_str) == 12:\n",
    "            formatted_number = format_number(number_str)\n",
    "            formatted_numbers.append(formatted_number)\n",
    "        else:\n",
    "            formatted_numbers.append(number_str)\n",
    "    return formatted_numbers\n",
    "            \n",
    "def format_number(number_str):\n",
    "    reversed_str = number_str[::-1]\n",
    "    formatted_str = ' '.join(reversed_str[i:i+4] for i in range(0, len(reversed_str), 4))\n",
    "    formatted_number = formatted_str[::-1]\n",
    "    return formatted_number\n"
   ]
  },
  {
   "cell_type": "code",
   "execution_count": null,
   "metadata": {},
   "outputs": [],
   "source": [
    "name_num = extract_aadhar_info(0.83)\n",
    "import pandas as pd\n",
    "\n",
    "df = pd.DataFrame(name_num)\n",
    "\n",
    "df.to_csv('output.csv', index=False)\n"
   ]
  },
  {
   "cell_type": "code",
   "execution_count": null,
   "metadata": {},
   "outputs": [],
   "source": [
    "print(\"Extracted Details:\")\n",
    "print()\n",
    "for item in name_num:\n",
    "    print(item[\"Name\"])\n",
    "    print(item[\"Number\"])\n",
    "    print() \n",
    "print(len(name_num)) "
   ]
  },
  {
   "attachments": {},
   "cell_type": "markdown",
   "metadata": {},
   "source": [
    "Single Image"
   ]
  },
  {
   "cell_type": "code",
   "execution_count": null,
   "metadata": {},
   "outputs": [],
   "source": [
    "name_num"
   ]
  },
  {
   "cell_type": "code",
   "execution_count": null,
   "metadata": {},
   "outputs": [],
   "source": [
    "def AadharDetailsExtractor():\n",
    "    path = r\"C:\\Users\\ASUS\\Desktop\\Aadhar_details_extractor\\AadharCard-Details-Extractor\\aadhar_dataset\"\n",
    "    img_path_2 = os.path.join(path, 'cardz.jpg')\n",
    "    result = ocr.ocr(img_path_2)\n",
    "    print()\n",
    "    print(\"The data extracted from Aadhar-Card: \")\n",
    "    print()\n",
    "    for res in result:\n",
    "        for i in range(0,len(result[0]),1):\n",
    "            print(res[i][1][0])\n",
    "    text = [res[i][1][0] for i in range(0, len(result[0]), 1) for res in result]\n",
    "    box = [res[0][0] for i in range(0, len(result[0]), 1) for res in result]\n",
    "    scores = [res[i][1][1] for i in range(0, len(result[0]), 1)  for res in result]\n",
    "    print(text)\n",
    "    font_path = os.path.join('PaddleOCR','doc','fonts','latin.ttf')\n",
    "    img = cv2.imread(img_path_2)\n",
    "    img = cv2.cvtColor(img, cv2.COLOR_BGR2RGB)\n",
    "    plt.figure(figsize=(15,15))\n",
    "    annotated = draw_ocr(img,box,text,scores,font_path=font_path)\n",
    "    plt.imshow(annotated)\n"
   ]
  },
  {
   "cell_type": "code",
   "execution_count": null,
   "metadata": {},
   "outputs": [],
   "source": [
    "AadharDetailsExtractor()"
   ]
  },
  {
   "attachments": {},
   "cell_type": "markdown",
   "metadata": {},
   "source": [
    "Regular Expressions"
   ]
  },
  {
   "cell_type": "code",
   "execution_count": null,
   "metadata": {},
   "outputs": [],
   "source": [
    "import re\n",
    "x =[]\n",
    "sample = ['1234 5678 1234','12345678 1234','1234 56781234','123456781234']\n",
    "for t in sample:\n",
    "    \n",
    "    #matches = re.findall(r'\\d{4} \\d{4} \\d{4}|\\d{8} \\d{4}|\\d{4} \\d{8}|\\d{12}', t)\n",
    "    if not t.startswith(\"VID\" or \"vid\" or \"VID:\" or \"vid:\" or \"VID \" or \"vid \"):\n",
    "    #matches = re.findall(r'\\b(?:\\d{4}\\s?\\d{4}\\s?\\d{4}|\\d{8}\\s?\\d{4}|\\d{4}\\s?\\d{8}|\\d{12})\\b', t)\n",
    "        matches = re.findall(r'\\b(\\d{4}\\s?\\d{4}\\s?\\d{4}|\\d{8}\\s?\\d{4}|\\d{4}\\s?\\d{8}|\\d{12})\\b', t)\n",
    "    x.extend(matches)\n",
    "for number in x:\n",
    "    print(number)\n",
    " "
   ]
  },
  {
   "attachments": {},
   "cell_type": "markdown",
   "metadata": {},
   "source": [
    "Voters Identity Card"
   ]
  },
  {
   "cell_type": "code",
   "execution_count": null,
   "metadata": {},
   "outputs": [],
   "source": [
    "import os\n",
    "import cv2\n",
    "import matplotlib.pyplot as plt\n",
    "from langdetect import detect\n",
    "from paddleocr import PaddleOCR\n",
    "import re\n",
    "import os\n",
    "import cv2\n",
    "import matplotlib.pyplot as plt\n",
    "from langdetect import detect\n",
    "from paddleocr import PaddleOCR\n",
    "import traceback\n",
    "filtered_numbers=[]\n",
    "\n",
    "def votersid_extraction(confidence_threshold=0.88):\n",
    "    path = r\"<enter path to directory containing voters id-card images>\"\n",
    "    img_path_2 = os.path.join(path, 'card3.png')\n",
    "    ocr = PaddleOCR(lang='en')\n",
    "   \n",
    "    result = ocr.ocr(img_path_2)\n",
    "    print()\n",
    "    print(\"The data extracted from Voters-Card: \")\n",
    "    print()\n",
    "    for res in result:\n",
    "        for i in range(0, len(result[0]), 1):\n",
    "            word = res[i][1][0]\n",
    "            confidence = res[i][1][1]\n",
    "            if confidence >= confidence_threshold:\n",
    "                print(word)\n",
    "    for res in result:\n",
    "                for line in res:\n",
    "                    text = line[1][0]\n",
    "                    matches = re.findall(r'^[A-Za-z]{3}\\d{7}$', text)\n",
    "                    if matches:\n",
    "                        filtered_numbers.extend(matches)\n",
    "    print(\"The EPIC number is the voters Id card is :\", filtered_numbers[0])\n",
    "    "
   ]
  },
  {
   "cell_type": "code",
   "execution_count": null,
   "metadata": {},
   "outputs": [],
   "source": [
    "votersid_extraction(0.88)"
   ]
  },
  {
   "attachments": {},
   "cell_type": "markdown",
   "metadata": {},
   "source": [
    "Epic number extraction for multiple Voters ID :"
   ]
  },
  {
   "cell_type": "code",
   "execution_count": null,
   "metadata": {},
   "outputs": [],
   "source": [
    "\n",
    "import cv2\n",
    "import matplotlib.pyplot as plt\n",
    "from langdetect import detect\n",
    "from paddleocr import PaddleOCR\n",
    "import re\n",
    "import os\n",
    "import cv2\n",
    "import matplotlib.pyplot as plt\n",
    "from langdetect import detect\n",
    "from paddleocr import PaddleOCR\n",
    "import traceback\n",
    "filtered_numbers = []\n",
    "def epicNumbers(confidence_threshold=0.88):\n",
    "    image_directory = r\"<enter path to directory containing votersid card images>\"\n",
    "    \n",
    "    for filename in os.listdir(image_directory):\n",
    "        if filename.endswith('.jpg') or filename.endswith('.png') or filename.endswith('.jpeg'):\n",
    "            img_path = os.path.join(image_directory, filename)\n",
    "            print(\"PATH:\",img_path)\n",
    "            result = ocr.ocr(img_path)\n",
    "            for res in result:\n",
    "                for line in res:\n",
    "                    text = line[1][0]\n",
    "                    matches = re.findall(r'^[A-Za-z]{3}\\d{7}$', text)\n",
    "                    if matches:\n",
    "                        filtered_numbers.extend(matches)\n",
    "    print()\n",
    "    print(\"The EPIC number's in the voters Id card's are :\", filtered_numbers)\n",
    "            \n",
    "    "
   ]
  },
  {
   "cell_type": "code",
   "execution_count": null,
   "metadata": {},
   "outputs": [],
   "source": [
    "epicNumbers(0.88)"
   ]
  },
  {
   "attachments": {},
   "cell_type": "markdown",
   "metadata": {},
   "source": [
    "Bank Passbook"
   ]
  },
  {
   "cell_type": "code",
   "execution_count": null,
   "metadata": {},
   "outputs": [],
   "source": [
    "import cv2\n",
    "import matplotlib.pyplot as plt\n",
    "from langdetect import detect\n",
    "from paddleocr import PaddleOCR\n",
    "import re\n",
    "import os\n",
    "import cv2\n",
    "import matplotlib.pyplot as plt\n",
    "from langdetect import detect\n",
    "from paddleocr import PaddleOCR\n",
    "import traceback\n",
    "filtered_numbers = []\n",
    "def IFSC_Extraction(confidence_threshold=0.88):\n",
    "    image_directory = r\"<enter path to directory containing bank passbook images>\"\n",
    "   \n",
    "    for filename in os.listdir(image_directory):\n",
    "        if filename.endswith('.jpg') or filename.endswith('.png') or filename.endswith('.jpeg'):\n",
    "            img_path = os.path.join(image_directory, filename)\n",
    "            print(\"PATH:\",img_path)\n",
    "            result = ocr.ocr(img_path)\n",
    "            for res in result:\n",
    "                for line in res:\n",
    "                    text = line[1][0]\n",
    "                    matches = re.findall(r'^[A-Z]{4}0[A-Z0-9]{6}$', text)\n",
    "                    if matches:\n",
    "                        filtered_numbers.extend(matches)\n",
    "    print()\n",
    "    print(\"The IFSC Code in the Bank passbook's are :\", filtered_numbers)\n",
    "    \n",
    "            "
   ]
  },
  {
   "cell_type": "code",
   "execution_count": null,
   "metadata": {},
   "outputs": [],
   "source": [
    "IFSC_Extraction(0.88)"
   ]
  }
 ],
 "metadata": {
  "kernelspec": {
   "display_name": "Python 3",
   "language": "python",
   "name": "python3"
  },
  "language_info": {
   "codemirror_mode": {
    "name": "ipython",
    "version": 3
   },
   "file_extension": ".py",
   "mimetype": "text/x-python",
   "name": "python",
   "nbconvert_exporter": "python",
   "pygments_lexer": "ipython3",
   "version": "3.10.12"
  },
  "orig_nbformat": 4
 },
 "nbformat": 4,
 "nbformat_minor": 2
}
