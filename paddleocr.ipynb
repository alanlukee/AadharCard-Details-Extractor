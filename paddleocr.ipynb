{
 "cells": [
  {
   "cell_type": "code",
   "execution_count": 1,
   "metadata": {},
   "outputs": [
    {
     "name": "stdout",
     "output_type": "stream",
     "text": [
      "\u001b[1;31merror\u001b[0m: \u001b[1mexternally-managed-environment\u001b[0m\n",
      "\n",
      "\u001b[31m×\u001b[0m This environment is externally managed\n",
      "\u001b[31m╰─>\u001b[0m To install Python packages system-wide, try 'pacman -S\n",
      "\u001b[31m   \u001b[0m python-xyz', where xyz is the package you are trying to\n",
      "\u001b[31m   \u001b[0m install.\n",
      "\u001b[31m   \u001b[0m \n",
      "\u001b[31m   \u001b[0m If you wish to install a non-Arch-packaged Python package,\n",
      "\u001b[31m   \u001b[0m create a virtual environment using 'python -m venv path/to/venv'.\n",
      "\u001b[31m   \u001b[0m Then use path/to/venv/bin/python and path/to/venv/bin/pip.\n",
      "\u001b[31m   \u001b[0m \n",
      "\u001b[31m   \u001b[0m If you wish to install a non-Arch packaged Python application,\n",
      "\u001b[31m   \u001b[0m it may be easiest to use 'pipx install xyz', which will manage a\n",
      "\u001b[31m   \u001b[0m virtual environment for you. Make sure you have python-pipx\n",
      "\u001b[31m   \u001b[0m installed via pacman.\n",
      "\n",
      "\u001b[1;35mnote\u001b[0m: If you believe this is a mistake, please contact your Python installation or OS distribution provider. You can override this, at the risk of breaking your Python installation or OS, by passing --break-system-packages.\n",
      "\u001b[1;36mhint\u001b[0m: See PEP 668 for the detailed specification.\n"
     ]
    }
   ],
   "source": [
    "!python -m pip install paddlepaddle-gpu==2.0.0 -i https://mirror.baidu.com/pypi/simple"
   ]
  },
  {
   "cell_type": "code",
   "execution_count": 2,
   "metadata": {},
   "outputs": [
    {
     "name": "stdout",
     "output_type": "stream",
     "text": [
      "Collecting paddleocr\n",
      "  Using cached paddleocr-2.6.1.3-py3-none-any.whl (445 kB)\n",
      "Collecting lxml\n",
      "  Downloading lxml-4.9.2-cp310-cp310-manylinux_2_17_x86_64.manylinux2014_x86_64.manylinux_2_24_x86_64.whl (7.1 MB)\n",
      "\u001b[2K     \u001b[90m━━━━━━━━━━━━━━━━━━━━━━━━━━━━━━━━━━━━━━━━\u001b[0m \u001b[32m7.1/7.1 MB\u001b[0m \u001b[31m4.2 MB/s\u001b[0m eta \u001b[36m0:00:00\u001b[0m00:01\u001b[0m00:01\u001b[0m\n",
      "\u001b[?25hCollecting pyclipper\n",
      "  Downloading pyclipper-1.3.0.post4-cp310-cp310-manylinux_2_12_x86_64.manylinux2010_x86_64.whl (813 kB)\n",
      "\u001b[2K     \u001b[90m━━━━━━━━━━━━━━━━━━━━━━━━━━━━━━━━━━━━━━━\u001b[0m \u001b[32m813.9/813.9 kB\u001b[0m \u001b[31m4.5 MB/s\u001b[0m eta \u001b[36m0:00:00\u001b[0ma \u001b[36m0:00:01\u001b[0m\n",
      "\u001b[?25hCollecting python-docx\n",
      "  Using cached python-docx-0.8.11.tar.gz (5.6 MB)\n",
      "  Preparing metadata (setup.py) ... \u001b[?25ldone\n",
      "\u001b[?25hCollecting openpyxl\n",
      "  Using cached openpyxl-3.1.2-py2.py3-none-any.whl (249 kB)\n",
      "Collecting opencv-python<=4.6.0.66\n",
      "  Using cached opencv_python-4.6.0.66-cp36-abi3-manylinux_2_17_x86_64.manylinux2014_x86_64.whl (60.9 MB)\n",
      "Collecting beautifulsoup4\n",
      "  Using cached beautifulsoup4-4.12.2-py3-none-any.whl (142 kB)\n",
      "Collecting fonttools>=4.24.0\n",
      "  Downloading fonttools-4.40.0-cp310-cp310-manylinux_2_17_x86_64.manylinux2014_x86_64.whl (4.2 MB)\n",
      "\u001b[2K     \u001b[90m━━━━━━━━━━━━━━━━━━━━━━━━━━━━━━━━━━━━━━━━\u001b[0m \u001b[32m4.2/4.2 MB\u001b[0m \u001b[31m3.2 MB/s\u001b[0m eta \u001b[36m0:00:00\u001b[0m00:01\u001b[0m00:01\u001b[0m\n",
      "\u001b[?25hCollecting numpy\n",
      "  Downloading numpy-1.25.0-cp310-cp310-manylinux_2_17_x86_64.manylinux2014_x86_64.whl (17.6 MB)\n",
      "\u001b[2K     \u001b[90m━━━━━━━━━━━━━━━━━━━━━━━━━━━━━━━━━━━━━━━━\u001b[0m \u001b[32m17.6/17.6 MB\u001b[0m \u001b[31m4.2 MB/s\u001b[0m eta \u001b[36m0:00:00\u001b[0m00:01\u001b[0m00:01\u001b[0m\n",
      "\u001b[?25hCollecting scikit-image\n",
      "  Downloading scikit_image-0.21.0-cp310-cp310-manylinux_2_17_x86_64.manylinux2014_x86_64.whl (13.8 MB)\n",
      "\u001b[2K     \u001b[90m━━━━━━━━━━━━━━━━━━━━━━━━━━━━━━━━━━━━━━━━\u001b[0m \u001b[32m13.8/13.8 MB\u001b[0m \u001b[31m5.2 MB/s\u001b[0m eta \u001b[36m0:00:00\u001b[0m00:01\u001b[0m00:01\u001b[0m\n",
      "\u001b[?25hCollecting visualdl\n",
      "  Using cached visualdl-2.5.3-py3-none-any.whl (6.3 MB)\n",
      "Collecting attrdict\n",
      "  Using cached attrdict-2.0.1-py2.py3-none-any.whl (9.9 kB)\n",
      "Collecting cython\n",
      "  Downloading Cython-0.29.35-cp310-cp310-manylinux_2_17_x86_64.manylinux2014_x86_64.manylinux_2_24_x86_64.whl (1.9 MB)\n",
      "\u001b[2K     \u001b[90m━━━━━━━━━━━━━━━━━━━━━━━━━━━━━━━━━━━━━━━━\u001b[0m \u001b[32m1.9/1.9 MB\u001b[0m \u001b[31m5.3 MB/s\u001b[0m eta \u001b[36m0:00:00\u001b[0ma \u001b[36m0:00:01\u001b[0m\n",
      "\u001b[?25hCollecting shapely\n",
      "  Downloading shapely-2.0.1-cp310-cp310-manylinux_2_17_x86_64.manylinux2014_x86_64.whl (2.3 MB)\n",
      "\u001b[2K     \u001b[90m━━━━━━━━━━━━━━━━━━━━━━━━━━━━━━━━━━━━━━━━\u001b[0m \u001b[32m2.3/2.3 MB\u001b[0m \u001b[31m5.0 MB/s\u001b[0m eta \u001b[36m0:00:00\u001b[0m00:01\u001b[0m00:01\u001b[0m\n",
      "\u001b[?25hCollecting tqdm\n",
      "  Using cached tqdm-4.65.0-py3-none-any.whl (77 kB)\n",
      "Collecting opencv-contrib-python<=4.6.0.66\n",
      "  Using cached opencv_contrib_python-4.6.0.66-cp36-abi3-manylinux_2_17_x86_64.manylinux2014_x86_64.whl (67.1 MB)\n",
      "Collecting pdf2docx\n",
      "  Using cached pdf2docx-0.5.6-py3-none-any.whl (148 kB)\n",
      "Collecting fire>=0.3.0\n",
      "  Using cached fire-0.5.0.tar.gz (88 kB)\n",
      "  Preparing metadata (setup.py) ... \u001b[?25ldone\n",
      "\u001b[?25hCollecting lmdb\n",
      "  Downloading lmdb-1.4.1-cp310-cp310-manylinux_2_17_x86_64.manylinux2014_x86_64.whl (299 kB)\n",
      "\u001b[2K     \u001b[90m━━━━━━━━━━━━━━━━━━━━━━━━━━━━━━━━━━━━━━━\u001b[0m \u001b[32m299.2/299.2 kB\u001b[0m \u001b[31m3.7 MB/s\u001b[0m eta \u001b[36m0:00:00\u001b[0ma \u001b[36m0:00:01\u001b[0m\n",
      "\u001b[?25hCollecting PyMuPDF<1.21.0\n",
      "  Downloading PyMuPDF-1.20.2-cp310-cp310-manylinux_2_17_x86_64.manylinux2014_x86_64.whl (8.9 MB)\n",
      "\u001b[2K     \u001b[90m━━━━━━━━━━━━━━━━━━━━━━━━━━━━━━━━━━━━━━━━\u001b[0m \u001b[32m8.9/8.9 MB\u001b[0m \u001b[31m3.5 MB/s\u001b[0m eta \u001b[36m0:00:00\u001b[0m00:01\u001b[0m00:01\u001b[0m\n",
      "\u001b[?25hCollecting imgaug\n",
      "  Using cached imgaug-0.4.0-py2.py3-none-any.whl (948 kB)\n",
      "Collecting rapidfuzz\n",
      "  Downloading rapidfuzz-3.1.1-cp310-cp310-manylinux_2_17_x86_64.manylinux2014_x86_64.whl (3.1 MB)\n",
      "\u001b[2K     \u001b[90m━━━━━━━━━━━━━━━━━━━━━━━━━━━━━━━━━━━━━━━━\u001b[0m \u001b[32m3.1/3.1 MB\u001b[0m \u001b[31m3.4 MB/s\u001b[0m eta \u001b[36m0:00:00\u001b[0m00:01\u001b[0m00:01\u001b[0m\n",
      "\u001b[?25hCollecting premailer\n",
      "  Using cached premailer-3.10.0-py2.py3-none-any.whl (19 kB)\n",
      "Requirement already satisfied: six in ./paddleOCR-venv/lib/python3.10/site-packages (from fire>=0.3.0->paddleocr) (1.16.0)\n",
      "Collecting termcolor\n",
      "  Using cached termcolor-2.3.0-py3-none-any.whl (6.9 kB)\n",
      "Collecting soupsieve>1.2\n",
      "  Using cached soupsieve-2.4.1-py3-none-any.whl (36 kB)\n",
      "Collecting scipy\n",
      "  Downloading scipy-1.10.1-cp310-cp310-manylinux_2_17_x86_64.manylinux2014_x86_64.whl (34.4 MB)\n",
      "\u001b[2K     \u001b[90m━━━━━━━━━━━━━━━━━━━━━━━━━━━━━━━━━━━━━━━━\u001b[0m \u001b[32m34.4/34.4 MB\u001b[0m \u001b[31m4.1 MB/s\u001b[0m eta \u001b[36m0:00:00\u001b[0m00:01\u001b[0m00:01\u001b[0m\n",
      "\u001b[?25hCollecting Pillow\n",
      "  Downloading Pillow-9.5.0-cp310-cp310-manylinux_2_28_x86_64.whl (3.4 MB)\n",
      "\u001b[2K     \u001b[90m━━━━━━━━━━━━━━━━━━━━━━━━━━━━━━━━━━━━━━━━\u001b[0m \u001b[32m3.4/3.4 MB\u001b[0m \u001b[31m4.2 MB/s\u001b[0m eta \u001b[36m0:00:00\u001b[0m00:01\u001b[0m00:01\u001b[0m\n",
      "\u001b[?25hCollecting matplotlib\n",
      "  Using cached matplotlib-3.7.1-cp310-cp310-manylinux_2_17_x86_64.manylinux2014_x86_64.whl (11.6 MB)\n",
      "Collecting imageio\n",
      "  Using cached imageio-2.31.1-py3-none-any.whl (313 kB)\n",
      "Collecting lazy_loader>=0.2\n",
      "  Using cached lazy_loader-0.2-py3-none-any.whl (8.6 kB)\n",
      "Collecting tifffile>=2022.8.12\n",
      "  Using cached tifffile-2023.4.12-py3-none-any.whl (219 kB)\n",
      "Requirement already satisfied: packaging>=21 in ./paddleOCR-venv/lib/python3.10/site-packages (from scikit-image->paddleocr) (23.1)\n",
      "Collecting networkx>=2.8\n",
      "  Using cached networkx-3.1-py3-none-any.whl (2.1 MB)\n",
      "Collecting PyWavelets>=1.1.1\n",
      "  Downloading PyWavelets-1.4.1-cp310-cp310-manylinux_2_17_x86_64.manylinux2014_x86_64.whl (6.8 MB)\n",
      "\u001b[2K     \u001b[90m━━━━━━━━━━━━━━━━━━━━━━━━━━━━━━━━━━━━━━━━\u001b[0m \u001b[32m6.8/6.8 MB\u001b[0m \u001b[31m4.6 MB/s\u001b[0m eta \u001b[36m0:00:00\u001b[0m00:01\u001b[0m00:01\u001b[0m\n",
      "\u001b[?25hCollecting et-xmlfile\n",
      "  Using cached et_xmlfile-1.1.0-py3-none-any.whl (4.7 kB)\n",
      "Collecting cssselect\n",
      "  Using cached cssselect-1.2.0-py2.py3-none-any.whl (18 kB)\n",
      "Collecting cachetools\n",
      "  Using cached cachetools-5.3.1-py3-none-any.whl (9.3 kB)\n",
      "Collecting requests\n",
      "  Using cached requests-2.31.0-py3-none-any.whl (62 kB)\n",
      "Collecting cssutils\n",
      "  Using cached cssutils-2.7.1-py3-none-any.whl (399 kB)\n",
      "Collecting flask>=1.1.1\n",
      "  Using cached Flask-2.3.2-py3-none-any.whl (96 kB)\n",
      "Collecting rarfile\n",
      "  Using cached rarfile-4.0-py3-none-any.whl (28 kB)\n",
      "Collecting bce-python-sdk\n",
      "  Using cached bce_python_sdk-0.8.83-py3-none-any.whl (210 kB)\n",
      "Collecting pandas\n",
      "  Downloading pandas-2.0.2-cp310-cp310-manylinux_2_17_x86_64.manylinux2014_x86_64.whl (12.3 MB)\n",
      "\u001b[2K     \u001b[90m━━━━━━━━━━━━━━━━━━━━━━━━━━━━━━━━━━━━━━━━\u001b[0m \u001b[32m12.3/12.3 MB\u001b[0m \u001b[31m4.1 MB/s\u001b[0m eta \u001b[36m0:00:00\u001b[0m00:01\u001b[0m00:01\u001b[0m\n",
      "\u001b[?25hRequirement already satisfied: psutil in ./paddleOCR-venv/lib/python3.10/site-packages (from visualdl->paddleocr) (5.9.5)\n",
      "Collecting Flask-Babel>=3.0.0\n",
      "  Using cached flask_babel-3.1.0-py3-none-any.whl (9.6 kB)\n",
      "Collecting protobuf>=3.20.0\n",
      "  Using cached protobuf-4.23.3-cp37-abi3-manylinux2014_x86_64.whl (304 kB)\n",
      "Collecting blinker>=1.6.2\n",
      "  Using cached blinker-1.6.2-py3-none-any.whl (13 kB)\n",
      "Collecting Werkzeug>=2.3.3\n",
      "  Using cached Werkzeug-2.3.6-py3-none-any.whl (242 kB)\n",
      "Collecting itsdangerous>=2.1.2\n",
      "  Using cached itsdangerous-2.1.2-py3-none-any.whl (15 kB)\n",
      "Collecting Jinja2>=3.1.2\n",
      "  Using cached Jinja2-3.1.2-py3-none-any.whl (133 kB)\n",
      "Collecting click>=8.1.3\n",
      "  Using cached click-8.1.3-py3-none-any.whl (96 kB)\n",
      "Collecting Babel>=2.12\n",
      "  Using cached Babel-2.12.1-py3-none-any.whl (10.1 MB)\n",
      "Collecting pytz>=2022.7\n",
      "  Using cached pytz-2023.3-py2.py3-none-any.whl (502 kB)\n",
      "Collecting pycryptodome>=3.8.0\n",
      "  Using cached pycryptodome-3.18.0-cp35-abi3-manylinux_2_17_x86_64.manylinux2014_x86_64.whl (2.1 MB)\n",
      "Collecting future>=0.6.0\n",
      "  Using cached future-0.18.3.tar.gz (840 kB)\n",
      "  Preparing metadata (setup.py) ... \u001b[?25ldone\n",
      "\u001b[?25hCollecting kiwisolver>=1.0.1\n",
      "  Using cached kiwisolver-1.4.4-cp310-cp310-manylinux_2_12_x86_64.manylinux2010_x86_64.whl (1.6 MB)\n",
      "Collecting contourpy>=1.0.1\n",
      "  Downloading contourpy-1.1.0-cp310-cp310-manylinux_2_17_x86_64.manylinux2014_x86_64.whl (300 kB)\n",
      "\u001b[2K     \u001b[90m━━━━━━━━━━━━━━━━━━━━━━━━━━━━━━━━━━━━━━━\u001b[0m \u001b[32m300.7/300.7 kB\u001b[0m \u001b[31m2.4 MB/s\u001b[0m eta \u001b[36m0:00:00\u001b[0m00:01\u001b[0m00:01\u001b[0m\n",
      "\u001b[?25hCollecting cycler>=0.10\n",
      "  Using cached cycler-0.11.0-py3-none-any.whl (6.4 kB)\n",
      "Requirement already satisfied: python-dateutil>=2.7 in ./paddleOCR-venv/lib/python3.10/site-packages (from matplotlib->imgaug->paddleocr) (2.8.2)\n",
      "Collecting pyparsing>=2.3.1\n",
      "  Using cached pyparsing-3.1.0-py3-none-any.whl (102 kB)\n",
      "Collecting tzdata>=2022.1\n",
      "  Using cached tzdata-2023.3-py2.py3-none-any.whl (341 kB)\n",
      "Collecting idna<4,>=2.5\n",
      "  Using cached idna-3.4-py3-none-any.whl (61 kB)\n",
      "Collecting certifi>=2017.4.17\n",
      "  Using cached certifi-2023.5.7-py3-none-any.whl (156 kB)\n",
      "Collecting charset-normalizer<4,>=2\n",
      "  Downloading charset_normalizer-3.1.0-cp310-cp310-manylinux_2_17_x86_64.manylinux2014_x86_64.whl (199 kB)\n",
      "\u001b[2K     \u001b[90m━━━━━━━━━━━━━━━━━━━━━━━━━━━━━━━━━━━━━━━\u001b[0m \u001b[32m199.3/199.3 kB\u001b[0m \u001b[31m4.1 MB/s\u001b[0m eta \u001b[36m0:00:00\u001b[0ma \u001b[36m0:00:01\u001b[0m\n",
      "\u001b[?25hCollecting urllib3<3,>=1.21.1\n",
      "  Using cached urllib3-2.0.3-py3-none-any.whl (123 kB)\n",
      "Collecting MarkupSafe>=2.0\n",
      "  Downloading MarkupSafe-2.1.3-cp310-cp310-manylinux_2_17_x86_64.manylinux2014_x86_64.whl (25 kB)\n",
      "Installing collected packages: rarfile, pytz, pyclipper, lmdb, urllib3, tzdata, tqdm, termcolor, soupsieve, rapidfuzz, pyparsing, PyMuPDF, pycryptodome, protobuf, Pillow, numpy, networkx, MarkupSafe, lxml, lazy_loader, kiwisolver, itsdangerous, idna, future, fonttools, et-xmlfile, cython, cycler, cssutils, cssselect, click, charset-normalizer, certifi, cachetools, blinker, Babel, attrdict, Werkzeug, tifffile, shapely, scipy, requests, PyWavelets, python-docx, pandas, openpyxl, opencv-python, opencv-contrib-python, Jinja2, imageio, fire, contourpy, beautifulsoup4, bce-python-sdk, scikit-image, premailer, pdf2docx, matplotlib, flask, imgaug, Flask-Babel, visualdl, paddleocr\n",
      "\u001b[33m  DEPRECATION: future is being installed using the legacy 'setup.py install' method, because it does not have a 'pyproject.toml' and the 'wheel' package is not installed. pip 23.1 will enforce this behaviour change. A possible replacement is to enable the '--use-pep517' option. Discussion can be found at https://github.com/pypa/pip/issues/8559\u001b[0m\u001b[33m\n",
      "\u001b[0m  Running setup.py install for future ... \u001b[?25ldone\n",
      "\u001b[?25h\u001b[33m  DEPRECATION: python-docx is being installed using the legacy 'setup.py install' method, because it does not have a 'pyproject.toml' and the 'wheel' package is not installed. pip 23.1 will enforce this behaviour change. A possible replacement is to enable the '--use-pep517' option. Discussion can be found at https://github.com/pypa/pip/issues/8559\u001b[0m\u001b[33m\n",
      "\u001b[0m  Running setup.py install for python-docx ... \u001b[?25ldone\n",
      "\u001b[?25h\u001b[33m  DEPRECATION: fire is being installed using the legacy 'setup.py install' method, because it does not have a 'pyproject.toml' and the 'wheel' package is not installed. pip 23.1 will enforce this behaviour change. A possible replacement is to enable the '--use-pep517' option. Discussion can be found at https://github.com/pypa/pip/issues/8559\u001b[0m\u001b[33m\n",
      "\u001b[0m  Running setup.py install for fire ... \u001b[?25ldone\n",
      "\u001b[?25hSuccessfully installed Babel-2.12.1 Flask-Babel-3.1.0 Jinja2-3.1.2 MarkupSafe-2.1.3 Pillow-9.5.0 PyMuPDF-1.20.2 PyWavelets-1.4.1 Werkzeug-2.3.6 attrdict-2.0.1 bce-python-sdk-0.8.83 beautifulsoup4-4.12.2 blinker-1.6.2 cachetools-5.3.1 certifi-2023.5.7 charset-normalizer-3.1.0 click-8.1.3 contourpy-1.1.0 cssselect-1.2.0 cssutils-2.7.1 cycler-0.11.0 cython-0.29.35 et-xmlfile-1.1.0 fire-0.5.0 flask-2.3.2 fonttools-4.40.0 future-0.18.3 idna-3.4 imageio-2.31.1 imgaug-0.4.0 itsdangerous-2.1.2 kiwisolver-1.4.4 lazy_loader-0.2 lmdb-1.4.1 lxml-4.9.2 matplotlib-3.7.1 networkx-3.1 numpy-1.25.0 opencv-contrib-python-4.6.0.66 opencv-python-4.6.0.66 openpyxl-3.1.2 paddleocr-2.6.1.3 pandas-2.0.2 pdf2docx-0.5.6 premailer-3.10.0 protobuf-4.23.3 pyclipper-1.3.0.post4 pycryptodome-3.18.0 pyparsing-3.1.0 python-docx-0.8.11 pytz-2023.3 rapidfuzz-3.1.1 rarfile-4.0 requests-2.31.0 scikit-image-0.21.0 scipy-1.10.1 shapely-2.0.1 soupsieve-2.4.1 termcolor-2.3.0 tifffile-2023.4.12 tqdm-4.65.0 tzdata-2023.3 urllib3-2.0.3 visualdl-2.5.3\n",
      "\n",
      "\u001b[1m[\u001b[0m\u001b[34;49mnotice\u001b[0m\u001b[1;39;49m]\u001b[0m\u001b[39;49m A new release of pip is available: \u001b[0m\u001b[31;49m23.0.1\u001b[0m\u001b[39;49m -> \u001b[0m\u001b[32;49m23.1.2\u001b[0m\n",
      "\u001b[1m[\u001b[0m\u001b[34;49mnotice\u001b[0m\u001b[1;39;49m]\u001b[0m\u001b[39;49m To update, run: \u001b[0m\u001b[32;49mpip3.10 install --upgrade pip\u001b[0m\n",
      "Note: you may need to restart the kernel to use updated packages.\n"
     ]
    }
   ],
   "source": [
    "%pip install paddleocr"
   ]
  },
  {
   "cell_type": "code",
   "execution_count": 3,
   "metadata": {},
   "outputs": [],
   "source": [
    "from matplotlib import pyplot as plt\n",
    "import cv2\n",
    "import os"
   ]
  },
  {
   "cell_type": "code",
   "execution_count": 5,
   "metadata": {},
   "outputs": [
    {
     "name": "stdout",
     "output_type": "stream",
     "text": [
      "Collecting paddlepaddle\n",
      "  Downloading paddlepaddle-2.4.2-cp310-cp310-manylinux1_x86_64.whl (121.7 MB)\n",
      "\u001b[2K     \u001b[90m━━━━━━━━━━━━━━━━━━━━━━━━━━━━━━━━━━━━━━━\u001b[0m \u001b[32m121.7/121.7 MB\u001b[0m \u001b[31m3.7 MB/s\u001b[0m eta \u001b[36m0:00:00\u001b[0m00:01\u001b[0m00:01\u001b[0m\n",
      "\u001b[?25hRequirement already satisfied: six in ./paddleOCR-venv/lib/python3.10/site-packages (from paddlepaddle) (1.16.0)\n",
      "Collecting paddle-bfloat==0.1.7\n",
      "  Downloading paddle_bfloat-0.1.7-cp310-cp310-manylinux_2_17_x86_64.manylinux2014_x86_64.whl (383 kB)\n",
      "\u001b[2K     \u001b[90m━━━━━━━━━━━━━━━━━━━━━━━━━━━━━━━━━━━━━━━\u001b[0m \u001b[32m383.2/383.2 kB\u001b[0m \u001b[31m2.7 MB/s\u001b[0m eta \u001b[36m0:00:00\u001b[0m00:01\u001b[0m00:01\u001b[0m\n",
      "\u001b[?25hRequirement already satisfied: numpy>=1.13 in ./paddleOCR-venv/lib/python3.10/site-packages (from paddlepaddle) (1.25.0)\n",
      "Requirement already satisfied: requests>=2.20.0 in ./paddleOCR-venv/lib/python3.10/site-packages (from paddlepaddle) (2.31.0)\n",
      "Collecting astor\n",
      "  Downloading astor-0.8.1-py2.py3-none-any.whl (27 kB)\n",
      "Collecting opt-einsum==3.3.0\n",
      "  Using cached opt_einsum-3.3.0-py3-none-any.whl (65 kB)\n",
      "Collecting protobuf<=3.20.0,>=3.1.0\n",
      "  Downloading protobuf-3.20.0-cp310-cp310-manylinux_2_12_x86_64.manylinux2010_x86_64.whl (1.1 MB)\n",
      "\u001b[2K     \u001b[90m━━━━━━━━━━━━━━━━━━━━━━━━━━━━━━━━━━━━━━━━\u001b[0m \u001b[32m1.1/1.1 MB\u001b[0m \u001b[31m5.0 MB/s\u001b[0m eta \u001b[36m0:00:00\u001b[0m00:01\u001b[0m00:01\u001b[0m\n",
      "\u001b[?25hRequirement already satisfied: Pillow in ./paddleOCR-venv/lib/python3.10/site-packages (from paddlepaddle) (9.5.0)\n",
      "Requirement already satisfied: decorator in ./paddleOCR-venv/lib/python3.10/site-packages (from paddlepaddle) (5.1.1)\n",
      "Requirement already satisfied: certifi>=2017.4.17 in ./paddleOCR-venv/lib/python3.10/site-packages (from requests>=2.20.0->paddlepaddle) (2023.5.7)\n",
      "Requirement already satisfied: urllib3<3,>=1.21.1 in ./paddleOCR-venv/lib/python3.10/site-packages (from requests>=2.20.0->paddlepaddle) (2.0.3)\n",
      "Requirement already satisfied: charset-normalizer<4,>=2 in ./paddleOCR-venv/lib/python3.10/site-packages (from requests>=2.20.0->paddlepaddle) (3.1.0)\n",
      "Requirement already satisfied: idna<4,>=2.5 in ./paddleOCR-venv/lib/python3.10/site-packages (from requests>=2.20.0->paddlepaddle) (3.4)\n",
      "Installing collected packages: paddle-bfloat, protobuf, opt-einsum, astor, paddlepaddle\n",
      "  Attempting uninstall: protobuf\n",
      "    Found existing installation: protobuf 4.23.3\n",
      "    Uninstalling protobuf-4.23.3:\n",
      "      Successfully uninstalled protobuf-4.23.3\n",
      "Successfully installed astor-0.8.1 opt-einsum-3.3.0 paddle-bfloat-0.1.7 paddlepaddle-2.4.2 protobuf-3.20.0\n",
      "\n",
      "\u001b[1m[\u001b[0m\u001b[34;49mnotice\u001b[0m\u001b[1;39;49m]\u001b[0m\u001b[39;49m A new release of pip is available: \u001b[0m\u001b[31;49m23.0.1\u001b[0m\u001b[39;49m -> \u001b[0m\u001b[32;49m23.1.2\u001b[0m\n",
      "\u001b[1m[\u001b[0m\u001b[34;49mnotice\u001b[0m\u001b[1;39;49m]\u001b[0m\u001b[39;49m To update, run: \u001b[0m\u001b[32;49mpip3.10 install --upgrade pip\u001b[0m\n",
      "Note: you may need to restart the kernel to use updated packages.\n"
     ]
    }
   ],
   "source": [
    "%pip install paddlepaddle"
   ]
  },
  {
   "cell_type": "code",
   "execution_count": 6,
   "metadata": {},
   "outputs": [
    {
     "name": "stdout",
     "output_type": "stream",
     "text": [
      "download https://paddleocr.bj.bcebos.com/PP-OCRv3/english/en_PP-OCRv3_det_infer.tar to /home/akash/.paddleocr/whl/det/en/en_PP-OCRv3_det_infer/en_PP-OCRv3_det_infer.tar\n"
     ]
    },
    {
     "name": "stderr",
     "output_type": "stream",
     "text": [
      "100%|██████████| 4.00M/4.00M [00:11<00:00, 363kiB/s] \n"
     ]
    },
    {
     "name": "stdout",
     "output_type": "stream",
     "text": [
      "download https://paddleocr.bj.bcebos.com/PP-OCRv3/english/en_PP-OCRv3_rec_infer.tar to /home/akash/.paddleocr/whl/rec/en/en_PP-OCRv3_rec_infer/en_PP-OCRv3_rec_infer.tar\n"
     ]
    },
    {
     "name": "stderr",
     "output_type": "stream",
     "text": [
      "100%|██████████| 9.96M/9.96M [00:23<00:00, 418kiB/s] \n"
     ]
    },
    {
     "name": "stdout",
     "output_type": "stream",
     "text": [
      "download https://paddleocr.bj.bcebos.com/dygraph_v2.0/ch/ch_ppocr_mobile_v2.0_cls_infer.tar to /home/akash/.paddleocr/whl/cls/ch_ppocr_mobile_v2.0_cls_infer/ch_ppocr_mobile_v2.0_cls_infer.tar\n"
     ]
    },
    {
     "name": "stderr",
     "output_type": "stream",
     "text": [
      "100%|██████████| 2.19M/2.19M [00:09<00:00, 225kiB/s] "
     ]
    },
    {
     "name": "stdout",
     "output_type": "stream",
     "text": [
      "[2023/06/21 12:04:23] ppocr DEBUG: Namespace(help='==SUPPRESS==', use_gpu=False, use_xpu=False, use_npu=False, ir_optim=True, use_tensorrt=False, min_subgraph_size=15, precision='fp32', gpu_mem=500, image_dir=None, page_num=0, det_algorithm='DB', det_model_dir='/home/akash/.paddleocr/whl/det/en/en_PP-OCRv3_det_infer', det_limit_side_len=960, det_limit_type='max', det_box_type='quad', det_db_thresh=0.3, det_db_box_thresh=0.6, det_db_unclip_ratio=1.5, max_batch_size=10, use_dilation=False, det_db_score_mode='fast', det_east_score_thresh=0.8, det_east_cover_thresh=0.1, det_east_nms_thresh=0.2, det_sast_score_thresh=0.5, det_sast_nms_thresh=0.2, det_pse_thresh=0, det_pse_box_thresh=0.85, det_pse_min_area=16, det_pse_scale=1, scales=[8, 16, 32], alpha=1.0, beta=1.0, fourier_degree=5, rec_algorithm='SVTR_LCNet', rec_model_dir='/home/akash/.paddleocr/whl/rec/en/en_PP-OCRv3_rec_infer', rec_image_inverse=True, rec_image_shape='3, 48, 320', rec_batch_num=6, max_text_length=25, rec_char_dict_path='/home/akash/OCR/AadharCard-Details-Extractor/paddleOCR-venv/lib/python3.10/site-packages/paddleocr/ppocr/utils/en_dict.txt', use_space_char=True, vis_font_path='./doc/fonts/simfang.ttf', drop_score=0.5, e2e_algorithm='PGNet', e2e_model_dir=None, e2e_limit_side_len=768, e2e_limit_type='max', e2e_pgnet_score_thresh=0.5, e2e_char_dict_path='./ppocr/utils/ic15_dict.txt', e2e_pgnet_valid_set='totaltext', e2e_pgnet_mode='fast', use_angle_cls=False, cls_model_dir='/home/akash/.paddleocr/whl/cls/ch_ppocr_mobile_v2.0_cls_infer', cls_image_shape='3, 48, 192', label_list=['0', '180'], cls_batch_num=6, cls_thresh=0.9, enable_mkldnn=False, cpu_threads=10, use_pdserving=False, warmup=False, sr_model_dir=None, sr_image_shape='3, 32, 128', sr_batch_num=1, draw_img_save_dir='./inference_results', save_crop_res=False, crop_res_save_dir='./output', use_mp=False, total_process_num=1, process_id=0, benchmark=False, save_log_path='./log_output/', show_log=True, use_onnx=False, output='./output', table_max_len=488, table_algorithm='TableAttn', table_model_dir=None, merge_no_span_structure=True, table_char_dict_path=None, layout_model_dir=None, layout_dict_path=None, layout_score_threshold=0.5, layout_nms_threshold=0.5, kie_algorithm='LayoutXLM', ser_model_dir=None, re_model_dir=None, use_visual_backbone=True, ser_dict_path='../train_data/XFUND/class_list_xfun.txt', ocr_order_method=None, mode='structure', image_orientation=False, layout=True, table=True, ocr=True, recovery=False, use_pdf2docx_api=False, lang='en', det=True, rec=True, type='ocr', ocr_version='PP-OCRv3', structure_version='PP-StructureV2')\n"
     ]
    },
    {
     "name": "stderr",
     "output_type": "stream",
     "text": [
      "\n"
     ]
    }
   ],
   "source": [
    "from paddleocr import PaddleOCR, draw_ocr\n",
    "\n",
    "ocr = PaddleOCR(lang = 'en')"
   ]
  },
  {
   "attachments": {},
   "cell_type": "markdown",
   "metadata": {},
   "source": [
    "Dealing with multiple images"
   ]
  },
  {
   "cell_type": "code",
   "execution_count": 40,
   "metadata": {},
   "outputs": [
    {
     "name": "stdout",
     "output_type": "stream",
     "text": [
      "PATH: /home/akash/OCR/AadharCard-Details-Extractor/card7.png\n",
      "[2023/06/21 12:30:39] ppocr WARNING: Since the angle classifier is not initialized, the angle classifier will not be uesd during the forward process\n",
      "[2023/06/21 12:30:39] ppocr DEBUG: dt_boxes num : 8, elapse : 0.4377133846282959\n",
      "[2023/06/21 12:30:40] ppocr DEBUG: rec_res num  : 8, elapse : 0.9202351570129395\n",
      "PATH: /home/akash/OCR/AadharCard-Details-Extractor/olp.png\n",
      "[2023/06/21 12:30:40] ppocr WARNING: Since the angle classifier is not initialized, the angle classifier will not be uesd during the forward process\n",
      "[2023/06/21 12:30:40] ppocr DEBUG: dt_boxes num : 28, elapse : 0.24208307266235352\n",
      "[2023/06/21 12:30:43] ppocr DEBUG: rec_res num  : 28, elapse : 2.5637266635894775\n"
     ]
    }
   ],
   "source": [
    "import re\n",
    "filtered_numbers = []\n",
    "# Directory containing the images\n",
    "\n",
    "image_directory = r\"/home/akash/OCR/AadharCard-Details-Extractor/\"\n",
    "# Process each image in the directory\n",
    "for filename in os.listdir(image_directory):\n",
    "    if filename.endswith('.jpg') or filename.endswith('.png') or filename.endswith('.jpeg'):\n",
    "        img_path = os.path.join(image_directory, filename)\n",
    "        print(\"PATH:\",img_path)\n",
    "        result = ocr.ocr(img_path)\n",
    "        \n",
    "        for res in result:\n",
    "            for line in res:\n",
    "                text = line[1][0]\n",
    "                matches = re.findall(r'\\b(\\d{4}\\s?\\d{4}\\s?\\d{4}|\\d{8}\\s?\\d{4}|\\d{4}\\s?\\d{8}|\\d{12})\\b', text)\n",
    "                if matches:\n",
    "                    filtered_numbers.extend(matches)\n",
    "            \n",
    "for number in filtered_numbers:\n",
    "    print(number)\n",
    "    print()\n"
   ]
  },
  {
   "cell_type": "code",
   "execution_count": 16,
   "metadata": {},
   "outputs": [
    {
     "data": {
      "text/plain": [
       "['0000 1111 2222', '0000 1111 2222', '0000 1111 2222']"
      ]
     },
     "execution_count": 16,
     "metadata": {},
     "output_type": "execute_result"
    }
   ],
   "source": [
    "filtered_numbers"
   ]
  },
  {
   "cell_type": "code",
   "execution_count": 17,
   "metadata": {},
   "outputs": [
    {
     "data": {
      "text/plain": [
       "[[[[[628.0, 46.0], [919.0, 46.0], [919.0, 62.0], [628.0, 62.0]],\n",
       "   ('1:GOVERNMENTOFINDIA0.991', 0.9908156991004944)],\n",
       "  [[[16.0, 56.0], [39.0, 56.0], [39.0, 72.0], [16.0, 72.0]],\n",
       "   ('50', 0.9994416236877441)],\n",
       "  [[[624.0, 67.0], [817.0, 66.0], [817.0, 87.0], [624.0, 88.0]],\n",
       "   ('2: Name XXXX 0.999', 0.9977814555168152)],\n",
       "  [[[627.0, 93.0], [868.0, 93.0], [868.0, 110.0], [627.0, 110.0]],\n",
       "   ('3:DOB:XX-XX-XXXX0.786', 0.9821428656578064)],\n",
       "  [[[9.0, 104.0], [39.0, 104.0], [39.0, 123.0], [9.0, 123.0]],\n",
       "   ('100', 0.9998922348022461)],\n",
       "  [[[308.0, 104.0], [393.0, 104.0], [393.0, 118.0], [308.0, 118.0]],\n",
       "   ('SIRGHRGR', 0.5638604164123535)],\n",
       "  [[[287.0, 124.0], [414.0, 124.0], [414.0, 133.0], [287.0, 133.0]],\n",
       "   ('GOVERNMENTOFTINDIA', 0.9147793650627136)],\n",
       "  [[[627.0, 118.0], [832.0, 118.0], [832.0, 135.0], [627.0, 135.0]],\n",
       "   ('4:Gender:MALE 0.967', 0.9783448576927185)],\n",
       "  [[[250.0, 145.0], [316.0, 145.0], [316.0, 162.0], [250.0, 162.0]],\n",
       "   ('005', 0.5905051231384277)],\n",
       "  [[[627.0, 142.0], [854.0, 142.0], [854.0, 160.0], [627.0, 160.0]],\n",
       "   ('5: 0000 1111 2222 0.998', 0.9592134952545166)],\n",
       "  [[[10.0, 154.0], [39.0, 154.0], [39.0, 168.0], [10.0, 168.0]],\n",
       "   ('150', 0.9993893504142761)],\n",
       "  [[[251.0, 171.0], [337.0, 171.0], [337.0, 185.0], [251.0, 185.0]],\n",
       "   ('Name XXXX', 0.9562481641769409)],\n",
       "  [[[250.0, 188.0], [384.0, 188.0], [384.0, 204.0], [250.0, 204.0]],\n",
       "   ('DOB:XX-XX-XXXX', 0.9573454856872559)],\n",
       "  [[[8.0, 201.0], [42.0, 201.0], [42.0, 219.0], [8.0, 219.0]],\n",
       "   ('200', 0.999244213104248)],\n",
       "  [[[250.0, 206.0], [358.0, 206.0], [358.0, 222.0], [250.0, 222.0]],\n",
       "   ('GenderMALE', 0.9890093803405762)],\n",
       "  [[[8.0, 249.0], [41.0, 249.0], [41.0, 268.0], [8.0, 268.0]],\n",
       "   ('250', 0.9999654293060303)],\n",
       "  [[[249.0, 265.0], [400.0, 265.0], [400.0, 282.0], [249.0, 282.0]],\n",
       "   ('0000 1111 2222', 0.938342273235321)],\n",
       "  [[[416.0, 268.0], [428.0, 268.0], [428.0, 275.0], [416.0, 275.0]],\n",
       "   ('-', 0.5265472531318665)],\n",
       "  [[[9.0, 300.0], [38.0, 300.0], [38.0, 315.0], [9.0, 315.0]],\n",
       "   ('300', 0.9995377659797668)],\n",
       "  [[[222.0, 299.0], [430.0, 297.0], [430.0, 315.0], [222.0, 316.0]],\n",
       "   ('3-33GT', 0.6691974997520447)],\n",
       "  [[[8.0, 346.0], [39.0, 346.0], [39.0, 364.0], [8.0, 364.0]],\n",
       "   ('350', 0.9999533295631409)],\n",
       "  [[[225.0, 409.0], [256.0, 409.0], [256.0, 427.0], [225.0, 427.0]],\n",
       "   ('200', 0.9999427795410156)],\n",
       "  [[[419.0, 409.0], [450.0, 409.0], [450.0, 427.0], [419.0, 427.0]],\n",
       "   ('400', 0.9996767044067383)],\n",
       "  [[[613.0, 409.0], [645.0, 409.0], [645.0, 427.0], [613.0, 427.0]],\n",
       "   ('600', 0.9996201395988464)],\n",
       "  [[[806.0, 409.0], [837.0, 409.0], [837.0, 427.0], [806.0, 427.0]],\n",
       "   ('800', 0.9988017082214355)],\n",
       "  [[[996.0, 409.0], [1035.0, 409.0], [1035.0, 427.0], [996.0, 427.0]],\n",
       "   ('1000', 0.9999265074729919)]]]"
      ]
     },
     "execution_count": 17,
     "metadata": {},
     "output_type": "execute_result"
    }
   ],
   "source": [
    "result"
   ]
  },
  {
   "cell_type": "code",
   "execution_count": null,
   "metadata": {},
   "outputs": [],
   "source": [
    "#for res in result:\n",
    "    #print(res,end=\"\")\n",
    "    #for line in res:\n",
    "        #print(line)\n",
    "        #print(line[1][0],end=\" \")\n",
    "    "
   ]
  },
  {
   "cell_type": "code",
   "execution_count": 18,
   "metadata": {},
   "outputs": [
    {
     "name": "stdout",
     "output_type": "stream",
     "text": [
      "['0000 1111 2222', '0000 1111 2222', '0000 1111 2222']\n"
     ]
    }
   ],
   "source": [
    "print(filtered_numbers)"
   ]
  },
  {
   "cell_type": "code",
   "execution_count": 19,
   "metadata": {},
   "outputs": [
    {
     "name": "stdout",
     "output_type": "stream",
     "text": [
      "1:GOVERNMENTOFINDIA0.991\n",
      "50\n",
      "2: Name XXXX 0.999\n",
      "3:DOB:XX-XX-XXXX0.786\n",
      "100\n",
      "SIRGHRGR\n",
      "GOVERNMENTOFTINDIA\n",
      "4:Gender:MALE 0.967\n",
      "005\n",
      "5: 0000 1111 2222 0.998\n",
      "150\n",
      "Name XXXX\n",
      "DOB:XX-XX-XXXX\n",
      "200\n",
      "GenderMALE\n",
      "250\n",
      "0000 1111 2222\n",
      "-\n",
      "300\n",
      "3-33GT\n",
      "350\n",
      "200\n",
      "400\n",
      "600\n",
      "800\n",
      "1000\n"
     ]
    }
   ],
   "source": [
    "for res in result:\n",
    "    for i in range(0,len(result[0]),1):\n",
    "        print(res[i][1][0])"
   ]
  },
  {
   "cell_type": "code",
   "execution_count": 20,
   "metadata": {},
   "outputs": [
    {
     "data": {
      "text/plain": [
       "list"
      ]
     },
     "execution_count": 20,
     "metadata": {},
     "output_type": "execute_result"
    }
   ],
   "source": [
    "type(result)"
   ]
  },
  {
   "attachments": {},
   "cell_type": "markdown",
   "metadata": {},
   "source": [
    "When it is only one image"
   ]
  },
  {
   "cell_type": "code",
   "execution_count": 21,
   "metadata": {},
   "outputs": [],
   "source": [
    "img_path_2 = os.path.join('.','card7.png')"
   ]
  },
  {
   "cell_type": "code",
   "execution_count": 22,
   "metadata": {},
   "outputs": [
    {
     "data": {
      "text/plain": [
       "'./card7.png'"
      ]
     },
     "execution_count": 22,
     "metadata": {},
     "output_type": "execute_result"
    }
   ],
   "source": [
    "img_path_2"
   ]
  },
  {
   "cell_type": "code",
   "execution_count": 23,
   "metadata": {},
   "outputs": [
    {
     "name": "stdout",
     "output_type": "stream",
     "text": [
      "[2023/06/21 12:16:30] ppocr WARNING: Since the angle classifier is not initialized, the angle classifier will not be uesd during the forward process\n",
      "[2023/06/21 12:16:30] ppocr DEBUG: dt_boxes num : 8, elapse : 0.46442389488220215\n",
      "[2023/06/21 12:16:31] ppocr DEBUG: rec_res num  : 8, elapse : 0.9325685501098633\n"
     ]
    }
   ],
   "source": [
    "result = ocr.ocr(img_path_2)"
   ]
  },
  {
   "cell_type": "code",
   "execution_count": 24,
   "metadata": {},
   "outputs": [
    {
     "name": "stdout",
     "output_type": "stream",
     "text": [
      "GOVERNMENTOFINDIA\n",
      "Name XXXX\n",
      "DOB: XX-XX-XXXX\n",
      "Gender:MALE\n",
      "0000 1111 2222\n",
      "3TT&TY - 3ITT 3ITGaT a6T 3TYQ ahT\n"
     ]
    }
   ],
   "source": [
    "for res in result:\n",
    "    for i in range(0,len(result[0]),1):\n",
    "        print(res[i][1][0])\n",
    "        "
   ]
  },
  {
   "cell_type": "code",
   "execution_count": 25,
   "metadata": {},
   "outputs": [],
   "source": [
    "text = [res[i][1][0] for i in range(0, len(result[0]), 1) for res in result]\n",
    "box = [res[0][0] for i in range(0, len(result[0]), 1) for res in result]\n",
    "scores = [res[i][1][1] for i in range(0, len(result[0]), 1)  for res in result]\n",
    "\n"
   ]
  },
  {
   "cell_type": "code",
   "execution_count": 26,
   "metadata": {},
   "outputs": [
    {
     "data": {
      "text/plain": [
       "[[[[[423.0, 191.0], [650.0, 191.0], [650.0, 209.0], [423.0, 209.0]],\n",
       "   ('GOVERNMENTOFINDIA', 0.9911358952522278)],\n",
       "  [[[366.0, 279.0], [512.0, 279.0], [512.0, 301.0], [366.0, 301.0]],\n",
       "   ('Name XXXX', 0.9994933605194092)],\n",
       "  [[[366.0, 311.0], [593.0, 311.0], [593.0, 332.0], [366.0, 332.0]],\n",
       "   ('DOB: XX-XX-XXXX', 0.7862433791160583)],\n",
       "  [[[365.0, 342.0], [545.0, 342.0], [545.0, 363.0], [365.0, 363.0]],\n",
       "   ('Gender:MALE', 0.9668829441070557)],\n",
       "  [[[359.0, 444.0], [622.0, 444.0], [622.0, 473.0], [359.0, 473.0]],\n",
       "   ('0000 1111 2222', 0.998407244682312)],\n",
       "  [[[317.0, 503.0], [672.0, 503.0], [672.0, 528.0], [317.0, 528.0]],\n",
       "   ('3TT&TY - 3ITT 3ITGaT a6T 3TYQ ahT', 0.7458162307739258)]]]"
      ]
     },
     "execution_count": 26,
     "metadata": {},
     "output_type": "execute_result"
    }
   ],
   "source": [
    "result"
   ]
  },
  {
   "cell_type": "code",
   "execution_count": 27,
   "metadata": {},
   "outputs": [
    {
     "data": {
      "text/plain": [
       "['GOVERNMENTOFINDIA',\n",
       " 'Name XXXX',\n",
       " 'DOB: XX-XX-XXXX',\n",
       " 'Gender:MALE',\n",
       " '0000 1111 2222',\n",
       " '3TT&TY - 3ITT 3ITGaT a6T 3TYQ ahT']"
      ]
     },
     "execution_count": 27,
     "metadata": {},
     "output_type": "execute_result"
    }
   ],
   "source": [
    "text"
   ]
  },
  {
   "cell_type": "code",
   "execution_count": 28,
   "metadata": {},
   "outputs": [
    {
     "data": {
      "text/plain": [
       "6"
      ]
     },
     "execution_count": 28,
     "metadata": {},
     "output_type": "execute_result"
    }
   ],
   "source": [
    "len(result[0])"
   ]
  },
  {
   "cell_type": "code",
   "execution_count": 29,
   "metadata": {},
   "outputs": [
    {
     "data": {
      "text/plain": [
       "[[[423.0, 191.0], [650.0, 191.0], [650.0, 209.0], [423.0, 209.0]],\n",
       " [[423.0, 191.0], [650.0, 191.0], [650.0, 209.0], [423.0, 209.0]],\n",
       " [[423.0, 191.0], [650.0, 191.0], [650.0, 209.0], [423.0, 209.0]],\n",
       " [[423.0, 191.0], [650.0, 191.0], [650.0, 209.0], [423.0, 209.0]],\n",
       " [[423.0, 191.0], [650.0, 191.0], [650.0, 209.0], [423.0, 209.0]],\n",
       " [[423.0, 191.0], [650.0, 191.0], [650.0, 209.0], [423.0, 209.0]]]"
      ]
     },
     "execution_count": 29,
     "metadata": {},
     "output_type": "execute_result"
    }
   ],
   "source": [
    "box"
   ]
  },
  {
   "cell_type": "code",
   "execution_count": 30,
   "metadata": {},
   "outputs": [
    {
     "data": {
      "text/plain": [
       "[0.9911358952522278,\n",
       " 0.9994933605194092,\n",
       " 0.7862433791160583,\n",
       " 0.9668829441070557,\n",
       " 0.998407244682312,\n",
       " 0.7458162307739258]"
      ]
     },
     "execution_count": 30,
     "metadata": {},
     "output_type": "execute_result"
    }
   ],
   "source": [
    "scores"
   ]
  },
  {
   "attachments": {},
   "cell_type": "markdown",
   "metadata": {},
   "source": [
    "plotting "
   ]
  },
  {
   "cell_type": "code",
   "execution_count": 31,
   "metadata": {},
   "outputs": [],
   "source": [
    "font_path = os.path.join('PaddleOCR','doc','fonts','latin.ttf')"
   ]
  },
  {
   "cell_type": "code",
   "execution_count": 32,
   "metadata": {},
   "outputs": [],
   "source": [
    "img = cv2.imread(img_path_2)\n",
    "img = cv2.cvtColor(img, cv2.COLOR_BGR2RGB)\n"
   ]
  },
  {
   "cell_type": "code",
   "execution_count": 33,
   "metadata": {},
   "outputs": [
    {
     "ename": "OSError",
     "evalue": "cannot open resource",
     "output_type": "error",
     "traceback": [
      "\u001b[0;31m---------------------------------------------------------------------------\u001b[0m",
      "\u001b[0;31mOSError\u001b[0m                                   Traceback (most recent call last)",
      "Cell \u001b[0;32mIn[33], line 2\u001b[0m\n\u001b[1;32m      1\u001b[0m plt\u001b[39m.\u001b[39mfigure(figsize\u001b[39m=\u001b[39m(\u001b[39m15\u001b[39m,\u001b[39m15\u001b[39m))\n\u001b[0;32m----> 2\u001b[0m annotated \u001b[39m=\u001b[39m draw_ocr(img,box,text,scores,font_path\u001b[39m=\u001b[39;49mfont_path)\n\u001b[1;32m      3\u001b[0m plt\u001b[39m.\u001b[39mimshow(annotated)\n",
      "File \u001b[0;32m~/OCR/AadharCard-Details-Extractor/paddleOCR-venv/lib/python3.10/site-packages/paddleocr/tools/infer/utility.py:389\u001b[0m, in \u001b[0;36mdraw_ocr\u001b[0;34m(image, boxes, txts, scores, drop_score, font_path)\u001b[0m\n\u001b[1;32m    387\u001b[0m \u001b[39mif\u001b[39;00m txts \u001b[39mis\u001b[39;00m \u001b[39mnot\u001b[39;00m \u001b[39mNone\u001b[39;00m:\n\u001b[1;32m    388\u001b[0m     img \u001b[39m=\u001b[39m np\u001b[39m.\u001b[39marray(resize_img(image, input_size\u001b[39m=\u001b[39m\u001b[39m600\u001b[39m))\n\u001b[0;32m--> 389\u001b[0m     txt_img \u001b[39m=\u001b[39m text_visual(\n\u001b[1;32m    390\u001b[0m         txts,\n\u001b[1;32m    391\u001b[0m         scores,\n\u001b[1;32m    392\u001b[0m         img_h\u001b[39m=\u001b[39;49mimg\u001b[39m.\u001b[39;49mshape[\u001b[39m0\u001b[39;49m],\n\u001b[1;32m    393\u001b[0m         img_w\u001b[39m=\u001b[39;49m\u001b[39m600\u001b[39;49m,\n\u001b[1;32m    394\u001b[0m         threshold\u001b[39m=\u001b[39;49mdrop_score,\n\u001b[1;32m    395\u001b[0m         font_path\u001b[39m=\u001b[39;49mfont_path)\n\u001b[1;32m    396\u001b[0m     img \u001b[39m=\u001b[39m np\u001b[39m.\u001b[39mconcatenate([np\u001b[39m.\u001b[39marray(img), np\u001b[39m.\u001b[39marray(txt_img)], axis\u001b[39m=\u001b[39m\u001b[39m1\u001b[39m)\n\u001b[1;32m    397\u001b[0m     \u001b[39mreturn\u001b[39;00m img\n",
      "File \u001b[0;32m~/OCR/AadharCard-Details-Extractor/paddleOCR-venv/lib/python3.10/site-packages/paddleocr/tools/infer/utility.py:533\u001b[0m, in \u001b[0;36mtext_visual\u001b[0;34m(texts, scores, img_h, img_w, threshold, font_path)\u001b[0m\n\u001b[1;32m    531\u001b[0m font_size \u001b[39m=\u001b[39m \u001b[39m20\u001b[39m\n\u001b[1;32m    532\u001b[0m txt_color \u001b[39m=\u001b[39m (\u001b[39m0\u001b[39m, \u001b[39m0\u001b[39m, \u001b[39m0\u001b[39m)\n\u001b[0;32m--> 533\u001b[0m font \u001b[39m=\u001b[39m ImageFont\u001b[39m.\u001b[39;49mtruetype(font_path, font_size, encoding\u001b[39m=\u001b[39;49m\u001b[39m\"\u001b[39;49m\u001b[39mutf-8\u001b[39;49m\u001b[39m\"\u001b[39;49m)\n\u001b[1;32m    535\u001b[0m gap \u001b[39m=\u001b[39m font_size \u001b[39m+\u001b[39m \u001b[39m5\u001b[39m\n\u001b[1;32m    536\u001b[0m txt_img_list \u001b[39m=\u001b[39m []\n",
      "File \u001b[0;32m~/OCR/AadharCard-Details-Extractor/paddleOCR-venv/lib/python3.10/site-packages/PIL/ImageFont.py:996\u001b[0m, in \u001b[0;36mtruetype\u001b[0;34m(font, size, index, encoding, layout_engine)\u001b[0m\n\u001b[1;32m    993\u001b[0m     \u001b[39mreturn\u001b[39;00m FreeTypeFont(font, size, index, encoding, layout_engine)\n\u001b[1;32m    995\u001b[0m \u001b[39mtry\u001b[39;00m:\n\u001b[0;32m--> 996\u001b[0m     \u001b[39mreturn\u001b[39;00m freetype(font)\n\u001b[1;32m    997\u001b[0m \u001b[39mexcept\u001b[39;00m \u001b[39mOSError\u001b[39;00m:\n\u001b[1;32m    998\u001b[0m     \u001b[39mif\u001b[39;00m \u001b[39mnot\u001b[39;00m is_path(font):\n",
      "File \u001b[0;32m~/OCR/AadharCard-Details-Extractor/paddleOCR-venv/lib/python3.10/site-packages/PIL/ImageFont.py:993\u001b[0m, in \u001b[0;36mtruetype.<locals>.freetype\u001b[0;34m(font)\u001b[0m\n\u001b[1;32m    992\u001b[0m \u001b[39mdef\u001b[39;00m \u001b[39mfreetype\u001b[39m(font):\n\u001b[0;32m--> 993\u001b[0m     \u001b[39mreturn\u001b[39;00m FreeTypeFont(font, size, index, encoding, layout_engine)\n",
      "File \u001b[0;32m~/OCR/AadharCard-Details-Extractor/paddleOCR-venv/lib/python3.10/site-packages/PIL/ImageFont.py:248\u001b[0m, in \u001b[0;36mFreeTypeFont.__init__\u001b[0;34m(self, font, size, index, encoding, layout_engine)\u001b[0m\n\u001b[1;32m    246\u001b[0m                 load_from_bytes(f)\n\u001b[1;32m    247\u001b[0m             \u001b[39mreturn\u001b[39;00m\n\u001b[0;32m--> 248\u001b[0m     \u001b[39mself\u001b[39m\u001b[39m.\u001b[39mfont \u001b[39m=\u001b[39m core\u001b[39m.\u001b[39;49mgetfont(\n\u001b[1;32m    249\u001b[0m         font, size, index, encoding, layout_engine\u001b[39m=\u001b[39;49mlayout_engine\n\u001b[1;32m    250\u001b[0m     )\n\u001b[1;32m    251\u001b[0m \u001b[39melse\u001b[39;00m:\n\u001b[1;32m    252\u001b[0m     load_from_bytes(font)\n",
      "\u001b[0;31mOSError\u001b[0m: cannot open resource"
     ]
    },
    {
     "data": {
      "text/plain": [
       "<Figure size 1500x1500 with 0 Axes>"
      ]
     },
     "metadata": {},
     "output_type": "display_data"
    }
   ],
   "source": [
    "\n",
    "plt.figure(figsize=(15,15))\n",
    "annotated = draw_ocr(img,box,text,scores,font_path=font_path)\n",
    "plt.imshow(annotated)"
   ]
  },
  {
   "attachments": {},
   "cell_type": "markdown",
   "metadata": {},
   "source": [
    "checking with regular expressions\n"
   ]
  },
  {
   "cell_type": "code",
   "execution_count": 34,
   "metadata": {},
   "outputs": [],
   "source": [
    "import re"
   ]
  },
  {
   "cell_type": "code",
   "execution_count": 35,
   "metadata": {},
   "outputs": [
    {
     "name": "stdout",
     "output_type": "stream",
     "text": [
      "0000 1111 2222\n"
     ]
    }
   ],
   "source": [
    "# Assuming 'text' contains the extracted OCR text\n",
    "filtered_numbers = []\n",
    "for t in text:\n",
    "    # Use regular expression to match the desired formats\n",
    "    matches = re.findall(r'\\d{4} \\d{4} \\d{4}|\\d{8} \\d{4}|\\d{4} \\d{8}|\\d{12}', t)\n",
    "    filtered_numbers.extend(matches)\n",
    "\n",
    "# Print the filtered numbers\n",
    "for number in filtered_numbers:\n",
    "    print(number)"
   ]
  },
  {
   "cell_type": "code",
   "execution_count": 36,
   "metadata": {},
   "outputs": [
    {
     "name": "stdout",
     "output_type": "stream",
     "text": [
      "1234 5678 1234\n",
      "12345678 1234\n",
      "1234 56781234\n",
      "123456781234\n"
     ]
    }
   ],
   "source": [
    "x =[]\n",
    "sample = ['1234 5678 1234','12345678 1234','1234 56781234','123456781234']\n",
    "for t in sample:\n",
    "    # Use regular expression to match the desired formats\n",
    "    matches = re.findall(r'\\d{4} \\d{4} \\d{4}|\\d{8} \\d{4}|\\d{4} \\d{8}|\\d{12}', t)\n",
    "    x.extend(matches)\n",
    "for number in x:\n",
    "    print(number)\n"
   ]
  }
 ],
 "metadata": {
  "kernelspec": {
   "display_name": "Python 3",
   "language": "python",
   "name": "python3"
  },
  "language_info": {
   "codemirror_mode": {
    "name": "ipython",
    "version": 3
   },
   "file_extension": ".py",
   "mimetype": "text/x-python",
   "name": "python",
   "nbconvert_exporter": "python",
   "pygments_lexer": "ipython3",
   "version": "3.10.12"
  },
  "orig_nbformat": 4
 },
 "nbformat": 4,
 "nbformat_minor": 2
}
